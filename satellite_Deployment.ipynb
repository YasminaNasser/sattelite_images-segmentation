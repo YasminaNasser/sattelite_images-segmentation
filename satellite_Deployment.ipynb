{
  "nbformat": 4,
  "nbformat_minor": 0,
  "metadata": {
    "colab": {
      "provenance": [],
      "authorship_tag": "ABX9TyM66nAE97Sm+CI72zHplPij",
      "include_colab_link": true
    },
    "kernelspec": {
      "name": "python3",
      "display_name": "Python 3"
    },
    "language_info": {
      "name": "python"
    }
  },
  "cells": [
    {
      "cell_type": "markdown",
      "metadata": {
        "id": "view-in-github",
        "colab_type": "text"
      },
      "source": [
        "<a href=\"https://colab.research.google.com/github/YasminaNasser/sattelite_images-segmentation/blob/main/satellite_Deployment.ipynb\" target=\"_parent\"><img src=\"https://colab.research.google.com/assets/colab-badge.svg\" alt=\"Open In Colab\"/></a>"
      ]
    },
    {
      "cell_type": "code",
      "source": [
        "!pip install pyngrok flask"
      ],
      "metadata": {
        "id": "KTzNlpKymMJZ",
        "outputId": "1a53ea00-f86e-4c6d-8365-2469890182ac",
        "colab": {
          "base_uri": "https://localhost:8080/"
        }
      },
      "execution_count": 3,
      "outputs": [
        {
          "output_type": "stream",
          "name": "stdout",
          "text": [
            "Requirement already satisfied: pyngrok in /usr/local/lib/python3.11/dist-packages (7.2.12)\n",
            "Requirement already satisfied: flask in /usr/local/lib/python3.11/dist-packages (3.1.1)\n",
            "Requirement already satisfied: PyYAML>=5.1 in /usr/local/lib/python3.11/dist-packages (from pyngrok) (6.0.2)\n",
            "Requirement already satisfied: blinker>=1.9.0 in /usr/local/lib/python3.11/dist-packages (from flask) (1.9.0)\n",
            "Requirement already satisfied: click>=8.1.3 in /usr/local/lib/python3.11/dist-packages (from flask) (8.2.1)\n",
            "Requirement already satisfied: itsdangerous>=2.2.0 in /usr/local/lib/python3.11/dist-packages (from flask) (2.2.0)\n",
            "Requirement already satisfied: jinja2>=3.1.2 in /usr/local/lib/python3.11/dist-packages (from flask) (3.1.6)\n",
            "Requirement already satisfied: markupsafe>=2.1.1 in /usr/local/lib/python3.11/dist-packages (from flask) (3.0.2)\n",
            "Requirement already satisfied: werkzeug>=3.1.0 in /usr/local/lib/python3.11/dist-packages (from flask) (3.1.3)\n"
          ]
        }
      ]
    },
    {
      "cell_type": "code",
      "source": [
        "!pip install Flask pyngrok tensorflow numpy pillow\n"
      ],
      "metadata": {
        "id": "XmTgEk-3tULd",
        "outputId": "4e5ec581-9898-4936-e88b-440413e71bb6",
        "colab": {
          "base_uri": "https://localhost:8080/"
        }
      },
      "execution_count": 4,
      "outputs": [
        {
          "output_type": "stream",
          "name": "stdout",
          "text": [
            "Requirement already satisfied: Flask in /usr/local/lib/python3.11/dist-packages (3.1.1)\n",
            "Requirement already satisfied: pyngrok in /usr/local/lib/python3.11/dist-packages (7.2.12)\n",
            "Requirement already satisfied: tensorflow in /usr/local/lib/python3.11/dist-packages (2.18.0)\n",
            "Requirement already satisfied: numpy in /usr/local/lib/python3.11/dist-packages (2.0.2)\n",
            "Requirement already satisfied: pillow in /usr/local/lib/python3.11/dist-packages (11.3.0)\n",
            "Requirement already satisfied: blinker>=1.9.0 in /usr/local/lib/python3.11/dist-packages (from Flask) (1.9.0)\n",
            "Requirement already satisfied: click>=8.1.3 in /usr/local/lib/python3.11/dist-packages (from Flask) (8.2.1)\n",
            "Requirement already satisfied: itsdangerous>=2.2.0 in /usr/local/lib/python3.11/dist-packages (from Flask) (2.2.0)\n",
            "Requirement already satisfied: jinja2>=3.1.2 in /usr/local/lib/python3.11/dist-packages (from Flask) (3.1.6)\n",
            "Requirement already satisfied: markupsafe>=2.1.1 in /usr/local/lib/python3.11/dist-packages (from Flask) (3.0.2)\n",
            "Requirement already satisfied: werkzeug>=3.1.0 in /usr/local/lib/python3.11/dist-packages (from Flask) (3.1.3)\n",
            "Requirement already satisfied: PyYAML>=5.1 in /usr/local/lib/python3.11/dist-packages (from pyngrok) (6.0.2)\n",
            "Requirement already satisfied: absl-py>=1.0.0 in /usr/local/lib/python3.11/dist-packages (from tensorflow) (1.4.0)\n",
            "Requirement already satisfied: astunparse>=1.6.0 in /usr/local/lib/python3.11/dist-packages (from tensorflow) (1.6.3)\n",
            "Requirement already satisfied: flatbuffers>=24.3.25 in /usr/local/lib/python3.11/dist-packages (from tensorflow) (25.2.10)\n",
            "Requirement already satisfied: gast!=0.5.0,!=0.5.1,!=0.5.2,>=0.2.1 in /usr/local/lib/python3.11/dist-packages (from tensorflow) (0.6.0)\n",
            "Requirement already satisfied: google-pasta>=0.1.1 in /usr/local/lib/python3.11/dist-packages (from tensorflow) (0.2.0)\n",
            "Requirement already satisfied: libclang>=13.0.0 in /usr/local/lib/python3.11/dist-packages (from tensorflow) (18.1.1)\n",
            "Requirement already satisfied: opt-einsum>=2.3.2 in /usr/local/lib/python3.11/dist-packages (from tensorflow) (3.4.0)\n",
            "Requirement already satisfied: packaging in /usr/local/lib/python3.11/dist-packages (from tensorflow) (25.0)\n",
            "Requirement already satisfied: protobuf!=4.21.0,!=4.21.1,!=4.21.2,!=4.21.3,!=4.21.4,!=4.21.5,<6.0.0dev,>=3.20.3 in /usr/local/lib/python3.11/dist-packages (from tensorflow) (5.29.5)\n",
            "Requirement already satisfied: requests<3,>=2.21.0 in /usr/local/lib/python3.11/dist-packages (from tensorflow) (2.32.3)\n",
            "Requirement already satisfied: setuptools in /usr/local/lib/python3.11/dist-packages (from tensorflow) (75.2.0)\n",
            "Requirement already satisfied: six>=1.12.0 in /usr/local/lib/python3.11/dist-packages (from tensorflow) (1.17.0)\n",
            "Requirement already satisfied: termcolor>=1.1.0 in /usr/local/lib/python3.11/dist-packages (from tensorflow) (3.1.0)\n",
            "Requirement already satisfied: typing-extensions>=3.6.6 in /usr/local/lib/python3.11/dist-packages (from tensorflow) (4.14.1)\n",
            "Requirement already satisfied: wrapt>=1.11.0 in /usr/local/lib/python3.11/dist-packages (from tensorflow) (1.17.2)\n",
            "Requirement already satisfied: grpcio<2.0,>=1.24.3 in /usr/local/lib/python3.11/dist-packages (from tensorflow) (1.74.0)\n",
            "Requirement already satisfied: tensorboard<2.19,>=2.18 in /usr/local/lib/python3.11/dist-packages (from tensorflow) (2.18.0)\n",
            "Requirement already satisfied: keras>=3.5.0 in /usr/local/lib/python3.11/dist-packages (from tensorflow) (3.8.0)\n",
            "Requirement already satisfied: h5py>=3.11.0 in /usr/local/lib/python3.11/dist-packages (from tensorflow) (3.14.0)\n",
            "Requirement already satisfied: ml-dtypes<0.5.0,>=0.4.0 in /usr/local/lib/python3.11/dist-packages (from tensorflow) (0.4.1)\n",
            "Requirement already satisfied: tensorflow-io-gcs-filesystem>=0.23.1 in /usr/local/lib/python3.11/dist-packages (from tensorflow) (0.37.1)\n",
            "Requirement already satisfied: wheel<1.0,>=0.23.0 in /usr/local/lib/python3.11/dist-packages (from astunparse>=1.6.0->tensorflow) (0.45.1)\n",
            "Requirement already satisfied: rich in /usr/local/lib/python3.11/dist-packages (from keras>=3.5.0->tensorflow) (13.9.4)\n",
            "Requirement already satisfied: namex in /usr/local/lib/python3.11/dist-packages (from keras>=3.5.0->tensorflow) (0.1.0)\n",
            "Requirement already satisfied: optree in /usr/local/lib/python3.11/dist-packages (from keras>=3.5.0->tensorflow) (0.17.0)\n",
            "Requirement already satisfied: charset-normalizer<4,>=2 in /usr/local/lib/python3.11/dist-packages (from requests<3,>=2.21.0->tensorflow) (3.4.2)\n",
            "Requirement already satisfied: idna<4,>=2.5 in /usr/local/lib/python3.11/dist-packages (from requests<3,>=2.21.0->tensorflow) (3.10)\n",
            "Requirement already satisfied: urllib3<3,>=1.21.1 in /usr/local/lib/python3.11/dist-packages (from requests<3,>=2.21.0->tensorflow) (2.5.0)\n",
            "Requirement already satisfied: certifi>=2017.4.17 in /usr/local/lib/python3.11/dist-packages (from requests<3,>=2.21.0->tensorflow) (2025.7.14)\n",
            "Requirement already satisfied: markdown>=2.6.8 in /usr/local/lib/python3.11/dist-packages (from tensorboard<2.19,>=2.18->tensorflow) (3.8.2)\n",
            "Requirement already satisfied: tensorboard-data-server<0.8.0,>=0.7.0 in /usr/local/lib/python3.11/dist-packages (from tensorboard<2.19,>=2.18->tensorflow) (0.7.2)\n",
            "Requirement already satisfied: markdown-it-py>=2.2.0 in /usr/local/lib/python3.11/dist-packages (from rich->keras>=3.5.0->tensorflow) (3.0.0)\n",
            "Requirement already satisfied: pygments<3.0.0,>=2.13.0 in /usr/local/lib/python3.11/dist-packages (from rich->keras>=3.5.0->tensorflow) (2.19.2)\n",
            "Requirement already satisfied: mdurl~=0.1 in /usr/local/lib/python3.11/dist-packages (from markdown-it-py>=2.2.0->rich->keras>=3.5.0->tensorflow) (0.1.2)\n"
          ]
        }
      ]
    },
    {
      "cell_type": "code",
      "source": [
        "!pip install segmentation_models"
      ],
      "metadata": {
        "colab": {
          "base_uri": "https://localhost:8080/"
        },
        "id": "x-gQ67liz_W7",
        "outputId": "99882264-44dc-449b-dec1-284d5de284d4"
      },
      "execution_count": 5,
      "outputs": [
        {
          "output_type": "stream",
          "name": "stdout",
          "text": [
            "Requirement already satisfied: segmentation_models in /usr/local/lib/python3.11/dist-packages (1.0.1)\n",
            "Requirement already satisfied: keras-applications<=1.0.8,>=1.0.7 in /usr/local/lib/python3.11/dist-packages (from segmentation_models) (1.0.8)\n",
            "Requirement already satisfied: image-classifiers==1.0.0 in /usr/local/lib/python3.11/dist-packages (from segmentation_models) (1.0.0)\n",
            "Requirement already satisfied: efficientnet==1.0.0 in /usr/local/lib/python3.11/dist-packages (from segmentation_models) (1.0.0)\n",
            "Requirement already satisfied: scikit-image in /usr/local/lib/python3.11/dist-packages (from efficientnet==1.0.0->segmentation_models) (0.25.2)\n",
            "Requirement already satisfied: numpy>=1.9.1 in /usr/local/lib/python3.11/dist-packages (from keras-applications<=1.0.8,>=1.0.7->segmentation_models) (2.0.2)\n",
            "Requirement already satisfied: h5py in /usr/local/lib/python3.11/dist-packages (from keras-applications<=1.0.8,>=1.0.7->segmentation_models) (3.14.0)\n",
            "Requirement already satisfied: scipy>=1.11.4 in /usr/local/lib/python3.11/dist-packages (from scikit-image->efficientnet==1.0.0->segmentation_models) (1.16.0)\n",
            "Requirement already satisfied: networkx>=3.0 in /usr/local/lib/python3.11/dist-packages (from scikit-image->efficientnet==1.0.0->segmentation_models) (3.5)\n",
            "Requirement already satisfied: pillow>=10.1 in /usr/local/lib/python3.11/dist-packages (from scikit-image->efficientnet==1.0.0->segmentation_models) (11.3.0)\n",
            "Requirement already satisfied: imageio!=2.35.0,>=2.33 in /usr/local/lib/python3.11/dist-packages (from scikit-image->efficientnet==1.0.0->segmentation_models) (2.37.0)\n",
            "Requirement already satisfied: tifffile>=2022.8.12 in /usr/local/lib/python3.11/dist-packages (from scikit-image->efficientnet==1.0.0->segmentation_models) (2025.6.11)\n",
            "Requirement already satisfied: packaging>=21 in /usr/local/lib/python3.11/dist-packages (from scikit-image->efficientnet==1.0.0->segmentation_models) (25.0)\n",
            "Requirement already satisfied: lazy-loader>=0.4 in /usr/local/lib/python3.11/dist-packages (from scikit-image->efficientnet==1.0.0->segmentation_models) (0.4)\n"
          ]
        }
      ]
    },
    {
      "cell_type": "code",
      "source": [
        "import os\n",
        "os.environ[\"SM_FRAMEWORK\"] = \"tf.keras\"\n",
        "\n",
        "from tensorflow import keras\n",
        "import segmentation_models as sm"
      ],
      "metadata": {
        "colab": {
          "base_uri": "https://localhost:8080/"
        },
        "id": "jk4vay1h0DqA",
        "outputId": "f1dca8e2-64b0-4620-8c87-b008d2c43648"
      },
      "execution_count": 6,
      "outputs": [
        {
          "output_type": "stream",
          "name": "stdout",
          "text": [
            "Segmentation Models: using `tf.keras` framework.\n"
          ]
        }
      ]
    },
    {
      "cell_type": "code",
      "source": [
        "from segmentation_models import Unet\n",
        "from tensorflow.keras import Model\n",
        "from tensorflow.keras.layers import Input\n",
        "import tensorflow as tf"
      ],
      "metadata": {
        "id": "dMBGRG5B0NJ7"
      },
      "execution_count": 7,
      "outputs": []
    },
    {
      "cell_type": "code",
      "source": [
        "from segmentation_models import FPN\n",
        "import tensorflow as tf\n",
        "from keras.saving import register_keras_serializable\n",
        "\n",
        "class CustomFPN14(Model):\n",
        "    def __init__(self, input_shape=(128, 128, 14), backbone='resnet50'):\n",
        "        super(CustomFPN14, self).__init__()\n",
        "\n",
        "        # 14-channel base model (no weights yet)\n",
        "        self.base = FPN(backbone_name=backbone, input_shape=input_shape,\n",
        "                         encoder_weights=None, classes=1, activation='sigmoid')\n",
        "\n",
        "        # Load pretrained 3-channel model\n",
        "        base_weights = FPN(backbone_name=backbone, input_shape=(128, 128, 3),\n",
        "                            encoder_weights='imagenet', classes=1, activation='sigmoid')\n",
        "\n",
        "        # Transfer weights except first 3 layers\n",
        "        for i in range(1, len(self.base.layers)):\n",
        "            try:\n",
        "                self.base.layers[i].set_weights(base_weights.layers[i].get_weights())\n",
        "            except:\n",
        "                print(f\"Skipping layer {i}: {self.base.layers[i].name}\")\n",
        "\n",
        "        del base_weights\n",
        "\n",
        "    def call(self, x, training=None):\n",
        "        return self.base(x)"
      ],
      "metadata": {
        "id": "2b1m7EIGzslb"
      },
      "execution_count": 8,
      "outputs": []
    },
    {
      "cell_type": "code",
      "source": [
        "\n",
        "from flask import Flask, request, jsonify, send_file\n",
        "import tensorflow as tf\n",
        "import numpy as np\n",
        "import io\n",
        "from PIL import Image\n",
        "from pyngrok import ngrok, conf\n",
        "import os\n",
        "from tifffile import imread as tif_imread\n",
        "\n",
        "app = Flask(__name__)\n",
        "\n",
        "model_weights_path = 'model_weights.weights.h5'\n",
        "if not os.path.exists(model_weights_path):\n",
        "    print(f\"Warning: Model weights file '{model_weights_path}' not found.\")\n",
        "    print(\"The model will not be able to make a real prediction.\")\n",
        "\n",
        "try:\n",
        "    model = CustomFPN14(input_shape=(128, 128, 14), backbone='efficientnetb5')\n",
        "    model.build((None, 128, 128, 14))\n",
        "    model.load_weights(model_weights_path)\n",
        "    print(\"Model loaded successfully (or dummy model created).\")\n",
        "except Exception as e:\n",
        "    print(f\"Error loading model: {e}\")\n",
        "    exit()\n",
        "\n",
        "def preprocess_input(image):\n",
        "    \"\"\"\n",
        "    Preprocesses the input image for the model.\n",
        "    \"\"\"\n",
        "    image = tf.image.resize(image, (128, 128))\n",
        "    image = tf.cast(image, tf.float32) / 255.0\n",
        "    return image\n",
        "\n",
        "def postprocess_mask(pred):\n",
        "    \"\"\"\n",
        "    Converts the model's prediction into a PIL Image.\n",
        "    \"\"\"\n",
        "    pred = tf.squeeze(pred)\n",
        "    if not isinstance(pred, np.ndarray):\n",
        "        pred = pred.numpy()\n",
        "    pred = (pred * 255).astype(np.uint8)\n",
        "    return Image.fromarray(pred)\n",
        "\n",
        "HTML_CONTENT = \"\"\"\n",
        "<!DOCTYPE html>\n",
        "<html lang=\"en\">\n",
        "<head>\n",
        "    <meta charset=\"UTF-8\">\n",
        "    <meta name=\"viewport\" content=\"width=device-width, initial-scale=1.0\">\n",
        "    <title>Model Predictor</title>\n",
        "    <script src=\"https://cdn.tailwindcss.com\"></script>\n",
        "    <link href=\"https://fonts.googleapis.com/css2?family=Inter:wght@400;500;600;700&display=swap\" rel=\"stylesheet\">\n",
        "    <style>\n",
        "        body {\n",
        "            font-family: 'Inter', sans-serif;\n",
        "        }\n",
        "    </style>\n",
        "</head>\n",
        "<body class=\"bg-gray-100 flex items-center justify-center min-h-screen p-4\">\n",
        "    <div class=\"bg-white p-8 rounded-xl shadow-lg w-full max-w-md\">\n",
        "        <h1 class=\"text-3xl font-bold text-center text-gray-800 mb-6\">Upload a .npy file</h1>\n",
        "        <p class=\"text-center text-gray-600 mb-8\">\n",
        "            This application will process your file and return a segmentation mask.\n",
        "        </p>\n",
        "\n",
        "        <form id=\"uploadForm\" class=\"space-y-6\">\n",
        "            <div>\n",
        "                <label for=\"file-upload\" class=\"block text-sm font-medium text-gray-700\">\n",
        "                    Choose file (128x128x14 .npy format)\n",
        "                </label>\n",
        "                <div class=\"mt-1 flex justify-center px-6 pt-5 pb-6 border-2 border-gray-300 border-dashed rounded-md\">\n",
        "                    <div class=\"space-y-1 text-center\">\n",
        "                        <svg class=\"mx-auto h-12 w-12 text-gray-400\" stroke=\"currentColor\" fill=\"none\" viewBox=\"0 0 48 48\" aria-hidden=\"true\">\n",
        "                            <path d=\"M28 8H12a4 4 0 00-4 4v20m32-12v8m0 0v8a4 4 0 01-4 4H12a4 4 0 01-4-4v-4m32-4l-3.1-3.1a4 4 0 00-5.4.1L24 24.3m32-12l-7.2 7.2m0 0L24 24.3m2.7-2.7l5.4-5.4a4 4 0 00.1-5.4L32 8\" stroke-width=\"2\" stroke-linecap=\"round\" stroke-linejoin=\"round\" />\n",
        "                        </svg>\n",
        "                        <div class=\"flex text-sm text-gray-600\">\n",
        "                            <label for=\"file-upload\" class=\"relative cursor-pointer bg-white rounded-md font-medium text-indigo-600 hover:text-indigo-500 focus-within:outline-none focus-within:ring-2 focus-within:ring-offset-2 focus-within:ring-indigo-500\">\n",
        "                                <span>Upload a file</span>\n",
        "                                <input id=\"file-upload\" name=\"file\" type=\"file\" class=\"sr-only\" required>\n",
        "                            </label>\n",
        "                            <p class=\"pl-1\">or drag and drop</p>\n",
        "                        </div>\n",
        "                        <p class=\"text-xs text-gray-500\" id=\"fileName\">\n",
        "                            No file chosen\n",
        "                        </p>\n",
        "                    </div>\n",
        "                </div>\n",
        "            </div>\n",
        "\n",
        "            <div>\n",
        "                <button type=\"submit\" class=\"w-full flex justify-center py-2 px-4 border border-transparent rounded-md shadow-sm text-sm font-medium text-white bg-indigo-600 hover:bg-indigo-700 focus:outline-none focus:ring-2 focus:ring-offset-2 focus:ring-indigo-500 transition ease-in-out duration-150\">\n",
        "                    Predict Mask\n",
        "                </button>\n",
        "            </div>\n",
        "        </form>\n",
        "\n",
        "        <div id=\"resultContainer\" class=\"mt-8 hidden\">\n",
        "            <h2 class=\"text-xl font-bold text-center text-gray-800 mb-4\">Prediction Result</h2>\n",
        "            <div id=\"loading\" class=\"text-center hidden\">\n",
        "                <svg class=\"animate-spin h-8 w-8 mx-auto text-indigo-500\" xmlns=\"http://www.w3.org/2000/svg\" fill=\"none\" viewBox=\"0 0 24 24\">\n",
        "                    <circle class=\"opacity-25\" cx=\"12\" cy=\"12\" r=\"10\" stroke=\"currentColor\" stroke-width=\"4\"></circle>\n",
        "                    <path class=\"opacity-75\" fill=\"currentColor\" d=\"M4 12a8 8 0 018-8V0C5.373 0 0 5.373 0 12h4zm2 5.291A7.962 7.962 0 014 12H0c0 3.042 1.135 5.824 3 7.938l3-2.647z\"></path>\n",
        "                </svg>\n",
        "                <p class=\"text-gray-500 mt-2\">Making a prediction...</p>\n",
        "            </div>\n",
        "            <img id=\"resultImage\" class=\"mt-4 mx-auto border-2 border-gray-300 rounded-lg shadow-md\" src=\"\" alt=\"Prediction Mask\">\n",
        "            <div id=\"error\" class=\"mt-4 text-center text-red-600 font-medium hidden\"></div>\n",
        "        </div>\n",
        "    </div>\n",
        "\n",
        "    <script>\n",
        "        const form = document.getElementById('uploadForm');\n",
        "        const fileInput = document.getElementById('file-upload');\n",
        "        const fileNameSpan = document.getElementById('fileName');\n",
        "        const resultContainer = document.getElementById('resultContainer');\n",
        "        const loadingSpinner = document.getElementById('loading');\n",
        "        const resultImage = document.getElementById('resultImage');\n",
        "        const errorDiv = document.getElementById('error');\n",
        "\n",
        "        fileInput.addEventListener('change', (event) => {\n",
        "            if (event.target.files.length > 0) {\n",
        "                fileNameSpan.textContent = event.target.files[0].name;\n",
        "            } else {\n",
        "                fileNameSpan.textContent = 'No file chosen';\n",
        "            }\n",
        "        });\n",
        "\n",
        "        form.addEventListener('submit', async (event) => {\n",
        "            event.preventDefault();\n",
        "\n",
        "            // Reset UI\n",
        "            resultContainer.classList.add('hidden');\n",
        "            loadingSpinner.classList.remove('hidden');\n",
        "            errorDiv.classList.add('hidden');\n",
        "            resultImage.src = '';\n",
        "\n",
        "            const formData = new FormData(form);\n",
        "\n",
        "            try {\n",
        "                const response = await fetch('/predict', {\n",
        "                    method: 'POST',\n",
        "                    body: formData,\n",
        "                });\n",
        "\n",
        "                loadingSpinner.classList.add('hidden');\n",
        "\n",
        "                if (response.ok) {\n",
        "                    const blob = await response.blob();\n",
        "                    const imageUrl = URL.createObjectURL(blob);\n",
        "                    resultImage.src = imageUrl;\n",
        "                    resultContainer.classList.remove('hidden');\n",
        "                } else {\n",
        "                    const errorData = await response.json();\n",
        "                    errorDiv.textContent = `Error: ${errorData.error || 'Prediction failed'}`;\n",
        "                    errorDiv.classList.remove('hidden');\n",
        "                }\n",
        "            } catch (err) {\n",
        "                loadingSpinner.classList.add('hidden');\n",
        "                errorDiv.textContent = `A network error occurred: ${err.message}`;\n",
        "                errorDiv.classList.remove('hidden');\n",
        "            }\n",
        "        });\n",
        "    </script>\n",
        "</body>\n",
        "</html>\n",
        "\"\"\"\n",
        "\n",
        "@app.route('/', methods=['GET'])\n",
        "def index():\n",
        "\n",
        "    return HTML_CONTENT\n",
        "\n",
        "@app.route('/predict', methods=['POST'])\n",
        "\n",
        "@app.route('/predict', methods=['POST'])\n",
        "def predict():\n",
        "    if 'file' not in request.files:\n",
        "        return jsonify({'error': 'No file uploaded'}), 400\n",
        "\n",
        "    file = request.files['file']\n",
        "    filename = file.filename.lower()\n",
        "\n",
        "    try:\n",
        "        # Load the image depending on file type\n",
        "        if filename.endswith('.tif') or filename.endswith('.tiff'):\n",
        "            image = tif_imread(file)  # shape: (H, W, C)\n",
        "        else:\n",
        "            image = Image.open(file).convert('RGB')  # .png or others\n",
        "            image = np.array(image)\n",
        "\n",
        "        if image.ndim == 2:\n",
        "            # Grayscale to RGB\n",
        "            image = np.stack([image]*3, axis=-1)\n",
        "        elif image.shape[-1] == 4:\n",
        "            # RGBA to RGB\n",
        "            image = image[..., :3]\n",
        "\n",
        "        # Resize image to (128, 128)\n",
        "        image = tf.image.resize(image, (128, 128)).numpy()\n",
        "\n",
        "        # Normalize and expand to 14 channels\n",
        "        image = image.astype(np.float32) / 255.0\n",
        "        channels = image.shape[-1]\n",
        "\n",
        "        if channels < 14:\n",
        "            # Pad channels with zeros\n",
        "            padding = np.zeros((128, 128, 14 - channels), dtype=np.float32)\n",
        "            image = np.concatenate([image, padding], axis=-1)\n",
        "        elif channels > 14:\n",
        "            image = image[..., :14]\n",
        "\n",
        "        image = tf.expand_dims(image, axis=0)  # Add batch dim\n",
        "\n",
        "        prediction = model.predict(image)\n",
        "        mask_image = postprocess_mask(prediction)\n",
        "\n",
        "        img_io = io.BytesIO()\n",
        "        mask_image.save(img_io, 'PNG')\n",
        "        img_io.seek(0)\n",
        "        return send_file(img_io, mimetype='image/png')\n",
        "\n",
        "    except Exception as e:\n",
        "        return jsonify({'error': f'Error processing image: {str(e)}'}), 500\n",
        "if __name__ == '__main__':\n",
        "    try:\n",
        "        public_url = ngrok.connect(5000)\n",
        "        print(f\"Ngrok tunnel established. Your app is live at: {public_url}\")\n",
        "\n",
        "        app.run(port=5000)\n",
        "\n",
        "    except Exception as e:\n",
        "        print(f\"An error occurred while starting the Flask app or ngrok: {e}\")\n",
        "        ngrok.kill()\n"
      ],
      "metadata": {
        "id": "SgQNz7XRaBBq",
        "outputId": "383556a2-fffb-4e2f-b8ca-ca157b0a5da9",
        "colab": {
          "base_uri": "https://localhost:8080/"
        }
      },
      "execution_count": 9,
      "outputs": [
        {
          "output_type": "stream",
          "name": "stderr",
          "text": [
            "/usr/local/lib/python3.11/dist-packages/keras_applications/imagenet_utils.py:276: UserWarning: This model usually expects 1 or 3 input channels. However, it was passed an input_shape with 14 input channels.\n",
            "  warnings.warn(\n"
          ]
        },
        {
          "output_type": "stream",
          "name": "stdout",
          "text": [
            "Skipping layer 1: stem_conv\n",
            "Error loading model: Unable to synchronously open file (truncated file: eof = 93323264, sblock->base_addr = 0, stored_eof = 383076280)\n",
            "Ngrok tunnel established. Your app is live at: NgrokTunnel: \"https://ed98c99a1c57.ngrok-free.app\" -> \"http://localhost:5000\"\n",
            " * Serving Flask app '__main__'\n",
            " * Debug mode: off\n"
          ]
        },
        {
          "output_type": "stream",
          "name": "stderr",
          "text": [
            "INFO:werkzeug:\u001b[31m\u001b[1mWARNING: This is a development server. Do not use it in a production deployment. Use a production WSGI server instead.\u001b[0m\n",
            " * Running on http://127.0.0.1:5000\n",
            "INFO:werkzeug:\u001b[33mPress CTRL+C to quit\u001b[0m\n",
            "INFO:werkzeug:127.0.0.1 - - [02/Aug/2025 17:27:03] \"GET / HTTP/1.1\" 200 -\n",
            "INFO:werkzeug:127.0.0.1 - - [02/Aug/2025 17:27:05] \"\u001b[33mGET /favicon.ico HTTP/1.1\u001b[0m\" 404 -\n"
          ]
        },
        {
          "output_type": "stream",
          "name": "stdout",
          "text": [
            "\u001b[1m1/1\u001b[0m \u001b[32m━━━━━━━━━━━━━━━━━━━━\u001b[0m\u001b[37m\u001b[0m \u001b[1m7s\u001b[0m 7s/step\n"
          ]
        },
        {
          "output_type": "stream",
          "name": "stderr",
          "text": [
            "INFO:werkzeug:127.0.0.1 - - [02/Aug/2025 17:27:25] \"POST /predict HTTP/1.1\" 200 -\n"
          ]
        }
      ]
    },
    {
      "cell_type": "code",
      "source": [
        "!ngrok config add-authtoken 2zgjQwyTAsx0UqK0WNTluIRk75F_4eKRLJ2a3NR6R6FqJrhB7\n"
      ],
      "metadata": {
        "id": "yUlNXjAcoz0_",
        "outputId": "a68befea-d2e2-4a3f-e9dc-ee6269613ea7",
        "colab": {
          "base_uri": "https://localhost:8080/"
        }
      },
      "execution_count": 10,
      "outputs": [
        {
          "output_type": "stream",
          "name": "stdout",
          "text": [
            "Authtoken saved to configuration file: /root/.config/ngrok/ngrok.yml\n"
          ]
        }
      ]
    }
  ]
}